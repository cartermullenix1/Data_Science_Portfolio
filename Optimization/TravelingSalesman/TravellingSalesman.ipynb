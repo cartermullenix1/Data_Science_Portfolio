{
 "cells": [
  {
   "cell_type": "markdown",
   "metadata": {},
   "source": [
    "List of Imports"
   ]
  },
  {
   "cell_type": "code",
   "execution_count": 22,
   "metadata": {},
   "outputs": [],
   "source": [
    "import numpy as np\n",
    "import math\n",
    "import matplotlib.collections as mc\n",
    "import matplotlib.pylab as pl\n",
    "import matplotlib.pyplot as plt"
   ]
  },
  {
   "cell_type": "markdown",
   "metadata": {},
   "source": [
    "Random Intinerary"
   ]
  },
  {
   "cell_type": "code",
   "execution_count": 23,
   "metadata": {},
   "outputs": [],
   "source": [
    "random_seed = 1729\n",
    "np.random.seed(random_seed)\n",
    "N = 40\n",
    "x = np.random.rand(N)\n",
    "y = np.random.rand(N)"
   ]
  },
  {
   "cell_type": "code",
   "execution_count": 24,
   "metadata": {},
   "outputs": [],
   "source": [
    "points = zip(x, y)\n",
    "cities = list(points)\n",
    "\n",
    "itinerary = list(range(0,N))"
   ]
  },
  {
   "cell_type": "code",
   "execution_count": 25,
   "metadata": {},
   "outputs": [],
   "source": [
    "def genlines(cities, itinerary):\n",
    "    lines = []\n",
    "    for j in range(0, len(itinerary) - 1):\n",
    "        lines.append([cities[itinerary[j]], cities[itinerary[j+1]]])\n",
    "    return lines"
   ]
  },
  {
   "cell_type": "code",
   "execution_count": 26,
   "metadata": {},
   "outputs": [],
   "source": [
    "def howfar(lines):\n",
    "    distance = 0\n",
    "    for j in range(0, len(lines)):\n",
    "        distance += math.sqrt(abs(lines[j][1][0] - lines[j][0][0])**2 + \\\n",
    "        abs(lines[j][1][1] - lines[j][0][1])**2)\n",
    "    return distance"
   ]
  },
  {
   "cell_type": "code",
   "execution_count": 27,
   "metadata": {},
   "outputs": [],
   "source": [
    "def plotitinerary(cities, itin, plottitle, thename):\n",
    "    lc = mc.LineCollection(genlines(cities, itin), linewidths=2)\n",
    "    fig, ax = pl.subplots()\n",
    "    ax.add_collection(lc)\n",
    "    ax.autoscale()\n",
    "    ax.margins(0.1)\n",
    "    pl.title(plottitle)\n",
    "    pl.xlabel('X Coordinate')\n",
    "    pl.ylabel('Y Coordinate')\n",
    "    pl.savefig(str(thename) + '.png')\n",
    "    pl.close()"
   ]
  },
  {
   "cell_type": "code",
   "execution_count": 28,
   "metadata": {},
   "outputs": [],
   "source": [
    "plotitinerary(cities,itinerary,'TSP - Random Itinerary','Random')"
   ]
  },
  {
   "cell_type": "markdown",
   "metadata": {},
   "source": [
    "Nearest Neighbor"
   ]
  },
  {
   "cell_type": "code",
   "execution_count": 29,
   "metadata": {},
   "outputs": [],
   "source": [
    "point = [0.5, 0.5]\n",
    "j = 10\n",
    "distance = math.sqrt((point[0] - cities[j][0])**2 + (point[1] - cities[j][1])**2)"
   ]
  },
  {
   "cell_type": "code",
   "execution_count": 30,
   "metadata": {},
   "outputs": [],
   "source": [
    "def findnearest(cities, idx, nnitinerary):\n",
    "    point = cities[idx]\n",
    "    mindistance = float('inf')\n",
    "    minidx = -1\n",
    "    for j in range(0, len(cities)):\n",
    "        distance = math.sqrt((point[0] - cities[j][0])**2 + (point[1] - cities[j][1])**2)\n",
    "        if distance < mindistance and j not in nnitinerary:\n",
    "            mindistance = distance\n",
    "            minidx = j\n",
    "    return minidx"
   ]
  },
  {
   "cell_type": "code",
   "execution_count": 31,
   "metadata": {},
   "outputs": [],
   "source": [
    "nnitinerary = [0]\n",
    "\n",
    "def donn(cities, N):\n",
    "    nnitinerary = [0]\n",
    "    for j in range(0, N-1):\n",
    "        next = findnearest(cities, nnitinerary[len(nnitinerary) - 1], nnitinerary)\n",
    "        nnitinerary.append(next)\n",
    "    return nnitinerary"
   ]
  },
  {
   "cell_type": "code",
   "execution_count": 32,
   "metadata": {},
   "outputs": [],
   "source": [
    "plotitinerary(cities,donn(cities,N),'TSP - Nearest Neighbor','NearestNeighbor')"
   ]
  },
  {
   "cell_type": "markdown",
   "metadata": {},
   "source": [
    "Simulated Annealing"
   ]
  },
  {
   "cell_type": "code",
   "execution_count": 33,
   "metadata": {},
   "outputs": [],
   "source": [
    "def perturb(cities, itinerary):\n",
    "    neighborids1 = math.floor(np.random.rand() * len(itinerary))\n",
    "    neighborids2 = math.floor(np.random.rand() * len(itinerary))\n",
    "    \n",
    "    itinerary2 = itinerary.copy()\n",
    "    \n",
    "    itinerary2[neighborids1] = itinerary[neighborids2]\n",
    "    itinerary2[neighborids2] = itinerary[neighborids1]\n",
    "    \n",
    "    distance1 = howfar(genlines(cities, itinerary))\n",
    "    distance2 = howfar(genlines(cities, itinerary2))\n",
    "    \n",
    "    itinerarytoreturn = itinerary.copy()\n",
    "    \n",
    "    if (distance1 > distance2):\n",
    "        itinerarytoreturn = itinerary2.copy()\n",
    "    \n",
    "    return(itinerarytoreturn.copy())"
   ]
  },
  {
   "cell_type": "code",
   "execution_count": 34,
   "metadata": {},
   "outputs": [
    {
     "name": "stdout",
     "output_type": "stream",
     "text": [
      "7.37962855396978\n"
     ]
    }
   ],
   "source": [
    "np.random.seed(random_seed)\n",
    "itinerary_ps = itinerary.copy()\n",
    "for n in range(0, len(itinerary) * 50000):\n",
    "    itinerary_ps = perturb(cities, itinerary_ps)\n",
    "\n",
    "print(howfar(genlines(cities, itinerary_ps)))"
   ]
  },
  {
   "cell_type": "code",
   "execution_count": 35,
   "metadata": {},
   "outputs": [],
   "source": [
    "temperature = lambda t: 1/(t + 1)"
   ]
  },
  {
   "cell_type": "code",
   "execution_count": 36,
   "metadata": {},
   "outputs": [
    {
     "data": {
      "image/png": "[encoded data removed]",
      "text/plain": [
       "<Figure size 640x480 with 1 Axes>"
      ]
     },
     "metadata": {},
     "output_type": "display_data"
    }
   ],
   "source": [
    "ts = list(range(0, 100))\n",
    "plt.plot(ts, [temperature(t) for t in ts])\n",
    "plt.title('The Temperature Function')\n",
    "plt.xlabel('Time')\n",
    "plt.ylabel('Temperature')\n",
    "plt.show()"
   ]
  },
  {
   "cell_type": "code",
   "execution_count": 37,
   "metadata": {},
   "outputs": [],
   "source": [
    "def perturb_sa1(cities, itinerary, time):\n",
    "    neighborids1 = math.floor(np.random.rand() * len(itinerary))\n",
    "    neighborids2 = math.floor(np.random.rand() * len(itinerary))\n",
    "    \n",
    "    itinerary2 = itinerary.copy()\n",
    "    \n",
    "    itinerary2[neighborids1] = itinerary[neighborids2]\n",
    "    itinerary2[neighborids2] = itinerary[neighborids1]\n",
    "    \n",
    "    distance1 = howfar(genlines(cities, itinerary))\n",
    "    distance2 = howfar(genlines(cities, itinerary2))\n",
    "    \n",
    "    itinerarytoreturn = itinerary.copy()\n",
    "    \n",
    "    randomdraw = np.random.rand()\n",
    "    temperature = 1/((time / 1000) + 1)\n",
    "    \n",
    "    if ((distance2 > distance1 and (randomdraw) < (temperature))or (distance1 > distance2)):\n",
    "        itinerarytoreturn = itinerary2.copy()\n",
    "    \n",
    "    return(itinerarytoreturn.copy())"
   ]
  },
  {
   "cell_type": "code",
   "execution_count": 38,
   "metadata": {},
   "outputs": [],
   "source": [
    "def perturb_sa2(cities, itinerary, time):\n",
    "    neighborids1 = math.floor(np.random.rand() * len(itinerary))\n",
    "    neighborids2 = math.floor(np.random.rand() * len(itinerary))\n",
    "    \n",
    "    itinerary2 = itinerary.copy()\n",
    "    \n",
    "    randomdraw2 = np.random.rand()\n",
    "    small = min(neighborids1, neighborids2)\n",
    "    big = max(neighborids1, neighborids2)\n",
    "    if (randomdraw2 >= 0.55):\n",
    "        itinerary2[small:big] = itinerary2[small:big][::-1]\n",
    "    elif(randomdraw2 < 0.45):\n",
    "        tempitin = itinerary2[small:big]\n",
    "        del(itinerary2[small:big])\n",
    "\n",
    "    neighborids3 = math.floor(np.random.rand() * len(itinerary))\n",
    "    for j in range(0, len(tempitin)):\n",
    "        itinerary2.insert(neighborids3 + j, tempitin[j])\n",
    "    else:\n",
    "        itinerary2[neighborids1] = itinerary[neighborids2]\n",
    "        itinerary2[neighborids2] = itinerary[neighborids1]\n",
    "\n",
    "    distance1 = howfar(genlines(cities, itinerary))\n",
    "    distance2 = howfar(genlines(cities, itinerary2))\n",
    "\n",
    "    itinerarytoreturn = itinerary.copy()\n",
    "\n",
    "    randomdraw = np.random.rand()\n",
    "    temperature = 1/((time / 1000) + 1)\n",
    "\n",
    "    if((distance2 > distance1 and (randomdraw) < (temperature)) or (distance1 > distance2)):\n",
    "        itinerarytoreturn = itinerary2.copy()\n",
    "\n",
    "    if((distance2 > distance1 and randomdraw < temperature) or (distance1 > distance2)):\n",
    "        scale = 3.5\n",
    "    \n",
    "    if ((distance2 > distance1 and (randomdraw) < (temperature * scale)) or (distance1 > distance2)):\n",
    "        scale = 3.5\n",
    "    \n",
    "    if((distance2 > distance1 and (randomdraw)) < (math.exp(scale * (distance1 - distance2))* temperature) or (distance1 > distance2)):\n",
    "        itinerarytoreturn = itinerary2.copy()\n",
    "    \n",
    "    return (itinerarytoreturn.copy())"
   ]
  },
  {
   "cell_type": "code",
   "execution_count": 39,
   "metadata": {},
   "outputs": [],
   "source": [
    "def perturb_sa3(cities, itinerary, time, maxitin):\n",
    "    neighborids1 = math.floor(np.random.rand() * len(itinerary))\n",
    "    neighborids2 = math.floor(np.random.rand() * len(itinerary))\n",
    "    global mindistance\n",
    "    global minitinerary\n",
    "    global minidx\n",
    "    itinerary2 = itinerary.copy()\n",
    "    randomdraw = np.random.rand()\n",
    "    \n",
    "    randomdraw2 = np.random.rand()\n",
    "    small = min(neighborids1, neighborids2)\n",
    "    big = max(neighborids1, neighborids2)\n",
    "    if (randomdraw2 >= 0.55):\n",
    "        itinerary2[small:big] = itinerary2[small:big][::-1]\n",
    "    elif(randomdraw2 < 0.45):\n",
    "        tempitin = itinerary2[small:big]\n",
    "        del(itinerary2[small:big])\n",
    "        neighborids3 = math.floor(np.random.rand() * len(itinerary))\n",
    "        for j in range(0, len(tempitin)):\n",
    "            itinerary2.insert(neighborids3 + j, tempitin[j])\n",
    "    else:\n",
    "        itinerary2[neighborids1] = itinerary[neighborids2]\n",
    "        itinerary2[neighborids2] = itinerary[neighborids1]\n",
    "        \n",
    "    temperature = 1/(time / (maxitin/10) + 1)\n",
    "    \n",
    "    distance1 = howfar(genlines(cities, itinerary))\n",
    "    distance2 = howfar(genlines(cities, itinerary2))\n",
    "    \n",
    "    itinerarytoreturn = itinerary.copy()\n",
    "    \n",
    "    scale = 3.5\n",
    "    if((distance2 > distance1 and (randomdraw)) < (math.exp(scale * (distance1 - distance2))* temperature) or (distance1 > distance2)):\n",
    "        itinerarytoreturn = itinerary2.copy()\n",
    "    \n",
    "    reset = True\n",
    "    resetthresh = 0.04\n",
    "    if (reset and (time - minidx) > (maxitin * resetthresh)):\n",
    "        itinerarytoreturn = minitinerary\n",
    "        minidx = time\n",
    "    \n",
    "    if(howfar(genlines(cities, itinerarytoreturn)) < mindistance):\n",
    "        mindistance = howfar(genlines(cities, itinerarytoreturn))\n",
    "        minitinerary = itinerarytoreturn\n",
    "        minidx = time\n",
    "    \n",
    "    if (abs(time-maxitin) <= 1):\n",
    "        itinerarytoreturn = minitinerary.copy()\n",
    "        \n",
    "    return (itinerarytoreturn.copy())"
   ]
  },
  {
   "cell_type": "code",
   "execution_count": 40,
   "metadata": {},
   "outputs": [],
   "source": [
    "def siman(itinerary, cities):\n",
    "    newitinerary = itinerary.copy()\n",
    "    global mindistance\n",
    "    global minitinerary\n",
    "    global minidx\n",
    "    mindistance = howfar(genlines(cities, itinerary))\n",
    "    minitinerary = itinerary\n",
    "    minidx = 0\n",
    "    \n",
    "    maxitin = len(itinerary) * 50000\n",
    "    for t in range(0, maxitin):\n",
    "        newitinerary = perturb_sa3(cities, newitinerary, t, maxitin)\n",
    "    \n",
    "    return (newitinerary.copy())"
   ]
  },
  {
   "cell_type": "code",
   "execution_count": 41,
   "metadata": {},
   "outputs": [
    {
     "name": "stdout",
     "output_type": "stream",
     "text": [
      "6.29000579854535\n",
      "5.324726648610248\n",
      "0.8465376375076895\n"
     ]
    }
   ],
   "source": [
    "np.random.seed(random_seed)\n",
    "itinerary = list(range(N))\n",
    "nnitin = donn(cities, N)\n",
    "nnresult = howfar(genlines(cities, nnitin))\n",
    "simanitinerary = siman(itinerary, cities)\n",
    "simanresult = howfar(genlines(cities, simanitinerary))\n",
    "print(nnresult)\n",
    "print(simanresult)\n",
    "print(simanresult/nnresult)"
   ]
  },
  {
   "cell_type": "code",
   "execution_count": 42,
   "metadata": {},
   "outputs": [],
   "source": [
    "plotitinerary(cities,simanitinerary,'Traveling Salesman Itinerary - Simulated Annealing','SimulatedAnnealing')"
   ]
  }
 ],
 "metadata": {
  "kernelspec": {
   "display_name": "Python 3",
   "language": "python",
   "name": "python3"
  },
  "language_info": {
   "codemirror_mode": {
    "name": "ipython",
    "version": 3
   },
   "file_extension": ".py",
   "mimetype": "text/x-python",
   "name": "python",
   "nbconvert_exporter": "python",
   "pygments_lexer": "ipython3",
   "version": "3.11.5"
  }
 },
 "nbformat": 4,
 "nbformat_minor": 2
}
